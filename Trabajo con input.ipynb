{
 "cells": [
  {
   "cell_type": "code",
   "execution_count": 77,
   "id": "1daa799e",
   "metadata": {},
   "outputs": [
    {
     "name": "stdout",
     "output_type": "stream",
     "text": [
      "Escriba su nombre:Jostin Abril\n"
     ]
    }
   ],
   "source": [
    "Nombre = input('Escriba su nombre:')"
   ]
  },
  {
   "cell_type": "code",
   "execution_count": 78,
   "id": "264b70f3",
   "metadata": {},
   "outputs": [
    {
     "data": {
      "text/plain": [
       "'Jostin Abril'"
      ]
     },
     "execution_count": 78,
     "metadata": {},
     "output_type": "execute_result"
    }
   ],
   "source": [
    "Nombre"
   ]
  },
  {
   "cell_type": "code",
   "execution_count": 79,
   "id": "1354eda5",
   "metadata": {},
   "outputs": [
    {
     "name": "stdout",
     "output_type": "stream",
     "text": [
      "Escriba aqui su edad:20\n"
     ]
    }
   ],
   "source": [
    "Edad = int(input('Escriba aqui su edad:'))"
   ]
  },
  {
   "cell_type": "code",
   "execution_count": 80,
   "id": "e7c27598",
   "metadata": {},
   "outputs": [
    {
     "data": {
      "text/plain": [
       "20"
      ]
     },
     "execution_count": 80,
     "metadata": {},
     "output_type": "execute_result"
    }
   ],
   "source": [
    "Edad"
   ]
  },
  {
   "cell_type": "code",
   "execution_count": 81,
   "id": "e9d7112a",
   "metadata": {},
   "outputs": [
    {
     "name": "stdout",
     "output_type": "stream",
     "text": [
      "Hola querido Jostin Abril hoy que ya tienes 20 años te queria decir que espero que cumplas todas tus metas como externadista y te siga yendo muy bien en todo lo que te propongas te mando un gran abrazo.\n"
     ]
    }
   ],
   "source": [
    "print('Hola querido', Nombre,'hoy que ya tienes',Edad,'años te queria decir que espero que cumplas todas tus metas como externadista',\n",
    "      'y te siga yendo muy bien en todo lo que te propongas te mando un gran abrazo.')"
   ]
  },
  {
   "cell_type": "code",
   "execution_count": 82,
   "id": "f95a3ce3",
   "metadata": {},
   "outputs": [
    {
     "data": {
      "text/plain": [
       "'Jostin Abril'"
      ]
     },
     "execution_count": 82,
     "metadata": {},
     "output_type": "execute_result"
    }
   ],
   "source": [
    "Nombre"
   ]
  },
  {
   "cell_type": "code",
   "execution_count": 84,
   "id": "4d0bc2c6",
   "metadata": {},
   "outputs": [
    {
     "name": "stdout",
     "output_type": "stream",
     "text": [
      "Escriba su edad:24\n"
     ]
    }
   ],
   "source": [
    "Edad = int(input('Escriba su edad:'))"
   ]
  },
  {
   "cell_type": "code",
   "execution_count": 85,
   "id": "79fbae66",
   "metadata": {},
   "outputs": [
    {
     "data": {
      "text/plain": [
       "24"
      ]
     },
     "execution_count": 85,
     "metadata": {},
     "output_type": "execute_result"
    }
   ],
   "source": [
    "Edad"
   ]
  },
  {
   "cell_type": "code",
   "execution_count": 86,
   "id": "63ef17f2",
   "metadata": {},
   "outputs": [
    {
     "name": "stdout",
     "output_type": "stream",
     "text": [
      "Valor que le gustaria ganar dentro de 5 años:4000000\n"
     ]
    }
   ],
   "source": [
    "Ganancias = int(input('Valor que le gustaria ganar dentro de 5 años:'))"
   ]
  },
  {
   "cell_type": "code",
   "execution_count": 87,
   "id": "06c58151",
   "metadata": {},
   "outputs": [
    {
     "data": {
      "text/plain": [
       "4000000"
      ]
     },
     "execution_count": 87,
     "metadata": {},
     "output_type": "execute_result"
    }
   ],
   "source": [
    "Ganancias"
   ]
  },
  {
   "cell_type": "code",
   "execution_count": 88,
   "id": "12235306",
   "metadata": {
    "scrolled": true
   },
   "outputs": [
    {
     "name": "stdout",
     "output_type": "stream",
     "text": [
      "Jostin Abril a la edad de 24 le gustaria ganarse, si es posible 4000000 de COP Mensuales y ademas de eso ya tener un emprendimiento avanzado para covertirse en independiente.\n"
     ]
    }
   ],
   "source": [
    "print(Nombre, 'a la edad de',Edad, 'le gustaria ganarse, si es posible', Ganancias, \n",
    "      'de COP Mensuales y ademas de eso ya tener un emprendimiento avanzado para covertirse en independiente.'.center(60,' '))"
   ]
  },
  {
   "cell_type": "code",
   "execution_count": 89,
   "id": "67b6a2a0",
   "metadata": {
    "scrolled": true
   },
   "outputs": [
    {
     "name": "stdout",
     "output_type": "stream",
     "text": [
      "Jostin Abril a la edad de 24 le gustaria ganarse, si es posible 4000000 de COP Mensuales y ademas de eso ya tener un emprendimiento avanzado para convertirse en independiente.\n"
     ]
    }
   ],
   "source": [
    "print('{} a la edad de {} le gustaria ganarse, si es posible {} ' \n",
    "      'de COP Mensuales y ademas de eso ya tener un emprendimiento avanzado para convertirse en independiente.'.format(Nombre,Edad,Ganancias))"
   ]
  }
 ],
 "metadata": {
  "kernelspec": {
   "display_name": "Python 3 (ipykernel)",
   "language": "python",
   "name": "python3"
  },
  "language_info": {
   "codemirror_mode": {
    "name": "ipython",
    "version": 3
   },
   "file_extension": ".py",
   "mimetype": "text/x-python",
   "name": "python",
   "nbconvert_exporter": "python",
   "pygments_lexer": "ipython3",
   "version": "3.9.7"
  }
 },
 "nbformat": 4,
 "nbformat_minor": 5
}
