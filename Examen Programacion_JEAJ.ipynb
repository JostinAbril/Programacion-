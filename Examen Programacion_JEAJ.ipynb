{
 "cells": [
  {
   "cell_type": "markdown",
   "id": "75d1294b",
   "metadata": {},
   "source": [
    "1.0 -- 5).Write a function called  closest that takes a list of  numbers L and a number n and returns the largest element in L that is not larger than n. For instance, if L- [ 1 ,  6,  3 , 9, 11 ] and n= 8, then the function should return 6, because 6 is the closest thing in L to 8 that is not larger than 8. Don’t worry about if all of the things in L are smaller than n."
   ]
  },
  {
   "cell_type": "code",
   "execution_count": 130,
   "id": "ae20149f",
   "metadata": {},
   "outputs": [],
   "source": [
    "L=[3,5,6,10,13]"
   ]
  },
  {
   "cell_type": "code",
   "execution_count": 131,
   "id": "2b356515",
   "metadata": {},
   "outputs": [],
   "source": [
    "def closest(L,n):\n",
    "    x=[b for b in L if n>b]\n",
    "    largest=0\n",
    "    for numero in x:\n",
    "        if numero==x:\n",
    "            x==numero\n",
    "    return numero              "
   ]
  },
  {
   "cell_type": "code",
   "execution_count": 132,
   "id": "badb6039",
   "metadata": {},
   "outputs": [
    {
     "data": {
      "text/plain": [
       "6"
      ]
     },
     "execution_count": 132,
     "metadata": {},
     "output_type": "execute_result"
    }
   ],
   "source": [
    "closest(L,8)"
   ]
  },
  {
   "cell_type": "markdown",
   "id": "e0d90241",
   "metadata": {},
   "source": [
    "1.0 -- 13).Consider two functions f(x)= x and g(x)= x**2 on the interval [—4, 4]. Write a program that, by trial and error, finds approximately for which values of x the two graphs cross, i.e., f(x) = g(x). Do this by considering N equally distributed points on the interval, at each point checking whether |f(x) — g(x)|< E, where E is some small number. Let N and E be user input to the program and let the result be printed to screen. Run your program with N 400 and E = 0.01. Explain the output from the program. Finally, try also other values of N, keeping the value of E fixed. Explain your observations.\n"
   ]
  },
  {
   "cell_type": "code",
   "execution_count": 133,
   "id": "09c6e595",
   "metadata": {},
   "outputs": [],
   "source": [
    "import matplotlib.pyplot as plt\n",
    "from numpy import *"
   ]
  },
  {
   "cell_type": "code",
   "execution_count": 134,
   "id": "017b740e",
   "metadata": {},
   "outputs": [],
   "source": [
    "def graficadora(t):\n",
    "    x=np.linspace(-4,4,10)\n",
    "    y=eval(t)\n",
    "    plt.plot(x,y,label=t)\n",
    "    plt.legend()\n",
    "    return"
   ]
  },
  {
   "cell_type": "code",
   "execution_count": 135,
   "id": "4f49b9c3",
   "metadata": {},
   "outputs": [
    {
     "name": "stdout",
     "output_type": "stream",
     "text": [
      "Escribe el numero de check-points N: 400\n",
      "Escribe el valor que le quieres dar al Epsilon: 0.01\n"
     ]
    },
    {
     "data": {
      "image/png": "[encoded data removed]",
      "text/plain": [
       "<Figure size 432x288 with 1 Axes>"
      ]
     },
     "metadata": {
      "needs_background": "light"
     },
     "output_type": "display_data"
    }
   ],
   "source": [
    "f=graficadora('x')\n",
    "g=graficadora('x**2')\n",
    "\n",
    "N=int(input('Escribe el numero de check-points N: '))\n",
    "epsilon = float(input('Escribe el valor que le quieres dar al Epsilon: '))\n",
    "x_values = linspace(-4, 4, N)\n"
   ]
  },
  {
   "cell_type": "markdown",
   "id": "404b1904",
   "metadata": {},
   "source": [
    "1.5 -- 29). Write a multiplication program for kids. The program should give the player ten randomly generated multiplication questions to do. After each, the program should tell them whether they got it right or wrong and what the correct answer is."
   ]
  },
  {
   "cell_type": "code",
   "execution_count": 136,
   "id": "b3136766",
   "metadata": {},
   "outputs": [
    {
     "name": "stdout",
     "output_type": "stream",
     "text": [
      "Escribe tu nombre:Jostin Abril\n",
      "Pregunta 1 - Cuanto es 5 x 3: 15\n",
      "Correcto\n",
      "Pregunta 2 - Cuanto es 7 x 8: 56\n",
      "Correcto\n",
      "Pregunta 3 - Cuanto es 9 x 6: 54\n",
      "Correcto\n",
      "Pregunta 4 - Cuanto es 3 x 3: 6\n",
      "Incorrecto, la respuesta es correcta es 9\n",
      "Pregunta 5 - Cuanto es 8 x 5: 40\n",
      "Correcto\n",
      "Pregunta 6 - Cuanto es 2 x 6: 13\n",
      "Incorrecto, la respuesta es correcta es 12\n",
      "Pregunta 7 - Cuanto es 3 x 6: 18\n",
      "Correcto\n",
      "Pregunta 8 - Cuanto es 3 x 4: 12\n",
      "Correcto\n",
      "Pregunta 9 - Cuanto es 1 x 4: 82\n",
      "Incorrecto, la respuesta es correcta es 4\n",
      "Pregunta 10 - Cuanto es 10 x 10: 100\n",
      "Correcto\n"
     ]
    }
   ],
   "source": [
    "from random import *\n",
    "\n",
    "Nombre = input(\"Escribe tu nombre:\")\n",
    "Numero_preguntas=10\n",
    "Preguntas= [(randint(1,10), randint(1,10)) for _ in range(Numero_preguntas)]\n",
    "for index, Pregunta in enumerate(Preguntas):\n",
    "    Respuesta_niño = int(input(f\"Pregunta {index + 1} - Cuanto es {Pregunta[0]} x {Pregunta[1]}: \"))\n",
    "    Respuesta_real = Pregunta[0] * Pregunta[1]\n",
    "    if Respuesta_niño == Respuesta_real:\n",
    "        print(\"Correcto\")\n",
    "    else:\n",
    "        print(f\"Incorrecto, la respuesta es correcta es {Respuesta_real}\")"
   ]
  },
  {
   "cell_type": "code",
   "execution_count": null,
   "id": "34a7bbb3",
   "metadata": {},
   "outputs": [],
   "source": []
  }
 ],
 "metadata": {
  "kernelspec": {
   "display_name": "Python 3 (ipykernel)",
   "language": "python",
   "name": "python3"
  },
  "language_info": {
   "codemirror_mode": {
    "name": "ipython",
    "version": 3
   },
   "file_extension": ".py",
   "mimetype": "text/x-python",
   "name": "python",
   "nbconvert_exporter": "python",
   "pygments_lexer": "ipython3",
   "version": "3.9.7"
  }
 },
 "nbformat": 4,
 "nbformat_minor": 5
}
