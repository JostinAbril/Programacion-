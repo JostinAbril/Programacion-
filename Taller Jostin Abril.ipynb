{
 "cells": [
  {
   "cell_type": "markdown",
   "id": "d77b5723",
   "metadata": {},
   "source": [
    "##### **Cree las siguientes funciones, con su debida documentación:**\n",
    "\n",
    "1. Cree una función que regrese como resultado el nombre de un restaurante y su NIT en una cadena de caracteres, pueden ser ficticios.\n",
    "2. Si en dicho restaurante cada persona consume en promedio ,50.000 haga una función que permira calcular el valor de la cuenta, en promedio, dado el número de comensales.\n",
    "3. En el total calculado en el punto anterior se incluye el impuesto al consumo, cree una función que le permita conocer el valor que debería pagar sin dicho impuesto el cual asciende al $8\\%$.\n",
    "4. Una función que tenga como argumentos de entrada nombre de una persona y cantidad de comensales, la función debe tener como respuesta un \"recibo\" en el que aparezca el nombre del restaurante, su NIT, el nombre del cliente, el valor de la factura sin impuestos y con impuestos (sug: emplee como base las funciones creadas anteriormente).\n",
    "5. Una función que permita calcular el máximo entre dos números.\n",
    "6. Una función que ordene de menor a mayor tres números.\n",
    "7. Una función que dadas 5 notas de un estudiante, le permitan calcular la definitiva de la materia (nota 1: 10%, nota 2: 20%, nota 3: 30%, nota 4: 15%, nota 5: 25%) junto a un mensaje el cual resuma el desempeño del estudiante en el curso. (*Sug*: utilice los intervalos $0\\leq x<1,\\ 1\\leq x<2,\\ 2\\leq x<3,\\ 3\\leq x<4, 4\\leq x<4.5,\\ 4.5\\leq x\\leq5 $)"
   ]
  },
  {
   "cell_type": "code",
   "execution_count": 26,
   "id": "e8e73247",
   "metadata": {},
   "outputs": [],
   "source": [
    "def restaurante():\n",
    "    x='La comidita del gato'\n",
    "    y='Nit:1249823957345'\n",
    "    print(x)\n",
    "    print(y)"
   ]
  },
  {
   "cell_type": "code",
   "execution_count": 28,
   "id": "fe7b2dd4",
   "metadata": {},
   "outputs": [
    {
     "name": "stdout",
     "output_type": "stream",
     "text": [
      "La comidita del gato\n",
      "Nit:1249823957345\n"
     ]
    }
   ],
   "source": [
    "restaurante()"
   ]
  },
  {
   "cell_type": "code",
   "execution_count": 98,
   "id": "5c9cbb34",
   "metadata": {},
   "outputs": [],
   "source": [
    "def promedio(c):\n",
    "    x=c*50000\n",
    "    print('El valor de la cuenta es:{0}'.format(x))"
   ]
  },
  {
   "cell_type": "code",
   "execution_count": 102,
   "id": "b458cb24",
   "metadata": {},
   "outputs": [
    {
     "name": "stdout",
     "output_type": "stream",
     "text": [
      "El valor de la cuenta es:500000\n"
     ]
    }
   ],
   "source": [
    "promedio(10)"
   ]
  },
  {
   "cell_type": "code",
   "execution_count": 124,
   "id": "dd19dbc0",
   "metadata": {},
   "outputs": [],
   "source": [
    "def impuesto(a):\n",
    "    x=a*100\n",
    "    y=int(x/108)\n",
    "    print('Sin el impuesto se pagaria:{0}'.format(y))"
   ]
  },
  {
   "cell_type": "code",
   "execution_count": 129,
   "id": "75ee277e",
   "metadata": {},
   "outputs": [
    {
     "name": "stdout",
     "output_type": "stream",
     "text": [
      "Sin el impuesto se pagaria:462962\n"
     ]
    }
   ],
   "source": [
    "impuesto(500000)"
   ]
  },
  {
   "cell_type": "code",
   "execution_count": 173,
   "id": "062b57d8",
   "metadata": {},
   "outputs": [],
   "source": [
    "def comensales(c):\n",
    "    x='La comidita del gato'\n",
    "    y='Nit:1249823957345'\n",
    "    z='RECIBO DE PAGO'\n",
    "    v='Numero de comensales:{}'.format(c)\n",
    "    n=input('Introduzca su nombre aqui:')\n",
    "    print(z)\n",
    "    print(x)\n",
    "    print(y)\n",
    "    print(n)\n",
    "    print(v)\n",
    "    \n",
    "    t=c*50000\n",
    "    print('El valor de la cuenta con impuestos es:{0}'.format(t))\n",
    "    \n",
    "    m=t*100\n",
    "    e=int(m/108)\n",
    "    print('El valor de la cuenta con impuestos es:{0}'.format(e))"
   ]
  },
  {
   "cell_type": "code",
   "execution_count": 175,
   "id": "91c14c35",
   "metadata": {},
   "outputs": [
    {
     "name": "stdout",
     "output_type": "stream",
     "text": [
      "Introduzca su nombre aqui:Miguel Rippe\n",
      "RECIBO DE PAGO\n",
      "La comidita del gato\n",
      "Nit:1249823957345\n",
      "Miguel Rippe\n",
      "Numero de comensales:5\n",
      "El valor de la cuenta con impuestos es:250000\n",
      "El valor de la cuenta con impuestos es:231481\n"
     ]
    }
   ],
   "source": [
    "comensales(5)"
   ]
  },
  {
   "cell_type": "code",
   "execution_count": 194,
   "id": "a3b03d35",
   "metadata": {},
   "outputs": [],
   "source": [
    "def maximo(x,y):\n",
    "    if x<y:\n",
    "        print(y)\n",
    "    elif x>y:\n",
    "        print(x)"
   ]
  },
  {
   "cell_type": "code",
   "execution_count": 197,
   "id": "a01fb6bd",
   "metadata": {},
   "outputs": [
    {
     "name": "stdout",
     "output_type": "stream",
     "text": [
      "54\n"
     ]
    }
   ],
   "source": [
    "maximo(32,54)"
   ]
  },
  {
   "cell_type": "code",
   "execution_count": 42,
   "id": "ee0be5d4",
   "metadata": {},
   "outputs": [],
   "source": [
    "def orden(x,y,z):\n",
    "    if x<y and y<z:\n",
    "        print(x,y,z)\n",
    "    elif z<x and x<y:\n",
    "        print(z,x,y)\n",
    "    elif y<z and z<x:\n",
    "        print(y,z,x)\n",
    "    elif y<x and x<z:\n",
    "        print(y,x,z)\n",
    "    elif z<y and y<x:\n",
    "        print(z,y,x)\n",
    "    elif x<z and z<y:\n",
    "        print(x,z,y)"
   ]
  },
  {
   "cell_type": "code",
   "execution_count": 43,
   "id": "c0d203d9",
   "metadata": {},
   "outputs": [
    {
     "name": "stdout",
     "output_type": "stream",
     "text": [
      "12 21 53\n"
     ]
    }
   ],
   "source": [
    "orden(21,53,12)"
   ]
  },
  {
   "cell_type": "code",
   "execution_count": 31,
   "id": "78c0a638",
   "metadata": {},
   "outputs": [],
   "source": [
    "def Promedio():\n",
    "    \n",
    "    Nota1=float(input('Ingrese aqui su primera nota:'))\n",
    "    Nota2=float(input('Ingrese aqui su segunda nota:'))\n",
    "    Nota3=float(input('Ingrese aqui su tercera nota:'))\n",
    "    Nota4=float(input('Ingrese aqui su cuarta nota:'))\n",
    "    Nota5=float(input('Ingrese aqui su quinta nota:'))\n",
    "\n",
    "    Promedio_de_nota=((Nota1*.10)+(Nota2*.20)+(Nota3*.30)+(Nota4*.15)+(Nota5*.25))\n",
    "    print('El promedio de su nota es:',Promedio_de_nota)\n",
    "    if Promedio_de_nota>=4.5:\n",
    "        print('Su promedio es Excelente')\n",
    "    elif Promedio_de_nota>=4.0:\n",
    "        print('Su promedio es Sobresaliente')\n",
    "    elif Promedio_de_nota>=3.0:\n",
    "        print('Su promedio es Aceptable')\n",
    "    else:\n",
    "        print('Su promedio es Insuficiente')"
   ]
  },
  {
   "cell_type": "code",
   "execution_count": 44,
   "id": "0cc69631",
   "metadata": {},
   "outputs": [
    {
     "name": "stdout",
     "output_type": "stream",
     "text": [
      "Ingrese aqui su primera nota:5\n",
      "Ingrese aqui su segunda nota:2\n",
      "Ingrese aqui su tercera nota:3\n",
      "Ingrese aqui su cuarta nota:4\n",
      "Ingrese aqui su quinta nota:2\n",
      "El promedio de su nota es: 2.9\n",
      "Su promedio es Insuficiente\n"
     ]
    }
   ],
   "source": [
    "Promedio()"
   ]
  },
  {
   "cell_type": "code",
   "execution_count": null,
   "id": "98e1bbc0",
   "metadata": {},
   "outputs": [],
   "source": []
  }
 ],
 "metadata": {
  "kernelspec": {
   "display_name": "Python 3 (ipykernel)",
   "language": "python",
   "name": "python3"
  },
  "language_info": {
   "codemirror_mode": {
    "name": "ipython",
    "version": 3
   },
   "file_extension": ".py",
   "mimetype": "text/x-python",
   "name": "python",
   "nbconvert_exporter": "python",
   "pygments_lexer": "ipython3",
   "version": "3.9.7"
  }
 },
 "nbformat": 4,
 "nbformat_minor": 5
}
