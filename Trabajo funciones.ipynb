{
 "cells": [
  {
   "cell_type": "code",
   "execution_count": 39,
   "id": "beb93cff",
   "metadata": {},
   "outputs": [],
   "source": [
    "def mcd(x,y):\n",
    "    t = 0\n",
    "    while (y > 0):\n",
    "        t = y\n",
    "        y = x % y\n",
    "        x = t\n",
    "    return x"
   ]
  },
  {
   "cell_type": "code",
   "execution_count": 40,
   "id": "2339d911",
   "metadata": {},
   "outputs": [
    {
     "data": {
      "text/plain": [
       "6"
      ]
     },
     "execution_count": 40,
     "metadata": {},
     "output_type": "execute_result"
    }
   ],
   "source": [
    "mcd(6,30)"
   ]
  },
  {
   "cell_type": "code",
   "execution_count": 94,
   "id": "e29728db",
   "metadata": {},
   "outputs": [],
   "source": [
    "def simplificacion(x,y):\n",
    "    if y==0:\n",
    "        return('EL DENOMINADOR NO PUEDE SER 0')\n",
    "    num=int(x/mcd(x,y))\n",
    "    den=int(y/mcd(x,y))\n",
    "    if den==1:\n",
    "        return(num)\n",
    "    return str(num)+'/'+str(den)"
   ]
  },
  {
   "cell_type": "code",
   "execution_count": 95,
   "id": "30983817",
   "metadata": {},
   "outputs": [
    {
     "data": {
      "text/plain": [
       "3"
      ]
     },
     "execution_count": 95,
     "metadata": {},
     "output_type": "execute_result"
    }
   ],
   "source": [
    "simplificacion(12,4)"
   ]
  },
  {
   "cell_type": "code",
   "execution_count": 96,
   "id": "7c18b922",
   "metadata": {},
   "outputs": [],
   "source": [
    "def suma(num1,den1,num2,den2):\n",
    "    if den1==0:\n",
    "        return('EL DENOMINADOR NO PUEDE SER 0')\n",
    "    elif den2==0:\n",
    "        return('EL DENOMINADOR NO PUEDE SER 0')\n",
    "    numerador=int(num1*den2)+int(num2*den1)\n",
    "    denominador=int(den1*den2)\n",
    "    if denominador==1:\n",
    "        return(numerador)\n",
    "    return str(numerador)+'/'+str(denominador)"
   ]
  },
  {
   "cell_type": "code",
   "execution_count": 97,
   "id": "8feb2cfe",
   "metadata": {},
   "outputs": [
    {
     "data": {
      "text/plain": [
       "'228/60'"
      ]
     },
     "execution_count": 97,
     "metadata": {},
     "output_type": "execute_result"
    }
   ],
   "source": [
    "suma(12,15,12,4)"
   ]
  },
  {
   "cell_type": "code",
   "execution_count": 98,
   "id": "411fc313",
   "metadata": {},
   "outputs": [
    {
     "data": {
      "text/plain": [
       "'19/5'"
      ]
     },
     "execution_count": 98,
     "metadata": {},
     "output_type": "execute_result"
    }
   ],
   "source": [
    "simplificacion(228,60)"
   ]
  },
  {
   "cell_type": "code",
   "execution_count": 99,
   "id": "b311c6a3",
   "metadata": {},
   "outputs": [],
   "source": [
    "def resta(num1,den1,num2,den2):\n",
    "    if den1==0:\n",
    "        return('EL DENOMINADOR NO PUEDE SER 0')\n",
    "    elif den2==0:\n",
    "        return('EL DENOMINADOR NO PUEDE SER 0')\n",
    "    numerador=int(num1*den2)-int(num2*den1)\n",
    "    denominador=int(den1*den2)\n",
    "    if denominador==1:\n",
    "        return(numerador)\n",
    "    return str(numerador)+'/'+str(denominador)"
   ]
  },
  {
   "cell_type": "code",
   "execution_count": 100,
   "id": "640c63d8",
   "metadata": {},
   "outputs": [
    {
     "data": {
      "text/plain": [
       "'112/98'"
      ]
     },
     "execution_count": 100,
     "metadata": {},
     "output_type": "execute_result"
    }
   ],
   "source": [
    "resta(12,7,8,14)"
   ]
  },
  {
   "cell_type": "code",
   "execution_count": 101,
   "id": "1720d4fc",
   "metadata": {},
   "outputs": [
    {
     "data": {
      "text/plain": [
       "'8/7'"
      ]
     },
     "execution_count": 101,
     "metadata": {},
     "output_type": "execute_result"
    }
   ],
   "source": [
    "simplificacion(112,98)"
   ]
  },
  {
   "cell_type": "code",
   "execution_count": 102,
   "id": "03d396cc",
   "metadata": {},
   "outputs": [],
   "source": [
    "def multiplicacion(num1,den1,num2,den2):\n",
    "    if den1==0:\n",
    "        return('EL DENOMINADOR NO PUEDE SER 0')\n",
    "    elif den2==0:\n",
    "        return('EL DENOMINADOR NO PUEDE SER 0')\n",
    "    numerador=int(num1*num2)\n",
    "    denominador=int(den1*den2)\n",
    "    if denominador==1:\n",
    "        return(numerador)\n",
    "    return str(numerador)+'/'+str(denominador)"
   ]
  },
  {
   "cell_type": "code",
   "execution_count": 112,
   "id": "c8e9dfe2",
   "metadata": {},
   "outputs": [
    {
     "data": {
      "text/plain": [
       "'10/120'"
      ]
     },
     "execution_count": 112,
     "metadata": {},
     "output_type": "execute_result"
    }
   ],
   "source": [
    "multiplicacion(2,10,5,12)"
   ]
  },
  {
   "cell_type": "code",
   "execution_count": 113,
   "id": "53c7b6b6",
   "metadata": {},
   "outputs": [
    {
     "data": {
      "text/plain": [
       "'1/12'"
      ]
     },
     "execution_count": 113,
     "metadata": {},
     "output_type": "execute_result"
    }
   ],
   "source": [
    "simplificacion(10,120)"
   ]
  },
  {
   "cell_type": "code",
   "execution_count": 114,
   "id": "9b5bffb3",
   "metadata": {},
   "outputs": [],
   "source": [
    "def division(num1,den1,num2,den2):\n",
    "    if den1==0:\n",
    "        return('EL DENOMINADOR NO PUEDE SER 0')\n",
    "    elif den2==0:\n",
    "        return('EL DENOMINADOR NO PUEDE SER 0')\n",
    "    numerador=int(num1*den2)\n",
    "    denominador=int(num2*den1)\n",
    "    if denominador==1:\n",
    "        return(numerador)\n",
    "    return str(numerador)+'/'+str(denominador)"
   ]
  },
  {
   "cell_type": "code",
   "execution_count": 115,
   "id": "bf934baa",
   "metadata": {},
   "outputs": [
    {
     "data": {
      "text/plain": [
       "'160/60'"
      ]
     },
     "execution_count": 115,
     "metadata": {},
     "output_type": "execute_result"
    }
   ],
   "source": [
    "division(32,5,12,5)"
   ]
  },
  {
   "cell_type": "code",
   "execution_count": 116,
   "id": "178a27d5",
   "metadata": {},
   "outputs": [
    {
     "data": {
      "text/plain": [
       "'8/3'"
      ]
     },
     "execution_count": 116,
     "metadata": {},
     "output_type": "execute_result"
    }
   ],
   "source": [
    "simplificacion(160,60)"
   ]
  },
  {
   "cell_type": "code",
   "execution_count": 120,
   "id": "26e40202",
   "metadata": {},
   "outputs": [],
   "source": [
    "import jupy as ju"
   ]
  },
  {
   "cell_type": "code",
   "execution_count": 133,
   "id": "c0910c2c",
   "metadata": {},
   "outputs": [
    {
     "data": {
      "text/plain": [
       "3"
      ]
     },
     "execution_count": 133,
     "metadata": {},
     "output_type": "execute_result"
    }
   ],
   "source": [
    "ju.mcd(39,6)"
   ]
  },
  {
   "cell_type": "code",
   "execution_count": 124,
   "id": "369610cc",
   "metadata": {},
   "outputs": [
    {
     "data": {
      "text/plain": [
       "'4/5'"
      ]
     },
     "execution_count": 124,
     "metadata": {},
     "output_type": "execute_result"
    }
   ],
   "source": [
    "ju.simplificacion(12,15)"
   ]
  },
  {
   "cell_type": "code",
   "execution_count": 125,
   "id": "1a87b544",
   "metadata": {},
   "outputs": [
    {
     "data": {
      "text/plain": [
       "'156/36'"
      ]
     },
     "execution_count": 125,
     "metadata": {},
     "output_type": "execute_result"
    }
   ],
   "source": [
    "ju.suma(12,3,4,12)"
   ]
  },
  {
   "cell_type": "code",
   "execution_count": 126,
   "id": "756b2b94",
   "metadata": {},
   "outputs": [
    {
     "data": {
      "text/plain": [
       "'13/3'"
      ]
     },
     "execution_count": 126,
     "metadata": {},
     "output_type": "execute_result"
    }
   ],
   "source": [
    "ju.simplificacion(156,36)"
   ]
  },
  {
   "cell_type": "code",
   "execution_count": 127,
   "id": "da21daae",
   "metadata": {},
   "outputs": [
    {
     "data": {
      "text/plain": [
       "'100/25'"
      ]
     },
     "execution_count": 127,
     "metadata": {},
     "output_type": "execute_result"
    }
   ],
   "source": [
    "ju.resta(32,5,12,5)"
   ]
  },
  {
   "cell_type": "code",
   "execution_count": 128,
   "id": "fe733fd5",
   "metadata": {},
   "outputs": [
    {
     "data": {
      "text/plain": [
       "4"
      ]
     },
     "execution_count": 128,
     "metadata": {},
     "output_type": "execute_result"
    }
   ],
   "source": [
    "ju.simplificacion(100,25)"
   ]
  },
  {
   "cell_type": "code",
   "execution_count": 129,
   "id": "c8c2157b",
   "metadata": {},
   "outputs": [
    {
     "data": {
      "text/plain": [
       "'10/12'"
      ]
     },
     "execution_count": 129,
     "metadata": {},
     "output_type": "execute_result"
    }
   ],
   "source": [
    "ju.multiplicacion(2,6,5,2)"
   ]
  },
  {
   "cell_type": "code",
   "execution_count": 130,
   "id": "ce58cfc4",
   "metadata": {},
   "outputs": [
    {
     "data": {
      "text/plain": [
       "'5/6'"
      ]
     },
     "execution_count": 130,
     "metadata": {},
     "output_type": "execute_result"
    }
   ],
   "source": [
    "ju.simplificacion(10,12)"
   ]
  },
  {
   "cell_type": "code",
   "execution_count": 121,
   "id": "b7548908",
   "metadata": {},
   "outputs": [
    {
     "data": {
      "text/plain": [
       "'14/30'"
      ]
     },
     "execution_count": 121,
     "metadata": {},
     "output_type": "execute_result"
    }
   ],
   "source": [
    "ju.division(2,5,6,7)"
   ]
  },
  {
   "cell_type": "code",
   "execution_count": 122,
   "id": "e60e51d5",
   "metadata": {},
   "outputs": [
    {
     "data": {
      "text/plain": [
       "'7/15'"
      ]
     },
     "execution_count": 122,
     "metadata": {},
     "output_type": "execute_result"
    }
   ],
   "source": [
    "ju.simplificacion(14,30)"
   ]
  }
 ],
 "metadata": {
  "kernelspec": {
   "display_name": "Python 3 (ipykernel)",
   "language": "python",
   "name": "python3"
  },
  "language_info": {
   "codemirror_mode": {
    "name": "ipython",
    "version": 3
   },
   "file_extension": ".py",
   "mimetype": "text/x-python",
   "name": "python",
   "nbconvert_exporter": "python",
   "pygments_lexer": "ipython3",
   "version": "3.9.7"
  }
 },
 "nbformat": 4,
 "nbformat_minor": 5
}
